{
 "cells": [
  {
   "cell_type": "code",
   "execution_count": 4,
   "id": "bfe72ed9-4a48-406a-8bb1-62e44e4d0bb2",
   "metadata": {},
   "outputs": [],
   "source": [
    "import openai"
   ]
  },
  {
   "cell_type": "code",
   "execution_count": 60,
   "id": "63be523a-00f6-4ddf-b544-d5725873a135",
   "metadata": {},
   "outputs": [],
   "source": [
    "mykey='Your_api_key'"
   ]
  },
  {
   "cell_type": "code",
   "execution_count": 9,
   "id": "68a5ceb8-84ac-4d15-ba22-1f70ab6a0fac",
   "metadata": {},
   "outputs": [],
   "source": [
    "openai.api_key=mykey"
   ]
  },
  {
   "cell_type": "code",
   "execution_count": 10,
   "id": "6f956845-71b2-4ba6-ba42-df4e787f1247",
   "metadata": {},
   "outputs": [
    {
     "data": {
      "text/plain": [
       "[Model(id='gpt-4o-2024-08-06', created=1722814719, object='model', owned_by='system'),\n",
       " Model(id='gpt-4-1106-preview', created=1698957206, object='model', owned_by='system'),\n",
       " Model(id='chatgpt-4o-latest', created=1723515131, object='model', owned_by='system'),\n",
       " Model(id='tts-1-hd-1106', created=1699053533, object='model', owned_by='system'),\n",
       " Model(id='tts-1-hd', created=1699046015, object='model', owned_by='system'),\n",
       " Model(id='dall-e-2', created=1698798177, object='model', owned_by='system'),\n",
       " Model(id='gpt-4o-mini', created=1721172741, object='model', owned_by='system'),\n",
       " Model(id='text-embedding-3-large', created=1705953180, object='model', owned_by='system'),\n",
       " Model(id='gpt-4o-mini-2024-07-18', created=1721172717, object='model', owned_by='system'),\n",
       " Model(id='tts-1', created=1681940951, object='model', owned_by='openai-internal'),\n",
       " Model(id='tts-1-1106', created=1699053241, object='model', owned_by='system'),\n",
       " Model(id='gpt-4-0125-preview', created=1706037612, object='model', owned_by='system'),\n",
       " Model(id='gpt-3.5-turbo-0125', created=1706048358, object='model', owned_by='system'),\n",
       " Model(id='gpt-4-turbo-preview', created=1706037777, object='model', owned_by='system'),\n",
       " Model(id='gpt-3.5-turbo', created=1677610602, object='model', owned_by='openai'),\n",
       " Model(id='whisper-1', created=1677532384, object='model', owned_by='openai-internal'),\n",
       " Model(id='gpt-4-turbo', created=1712361441, object='model', owned_by='system'),\n",
       " Model(id='gpt-4-turbo-2024-04-09', created=1712601677, object='model', owned_by='system'),\n",
       " Model(id='gpt-3.5-turbo-16k', created=1683758102, object='model', owned_by='openai-internal'),\n",
       " Model(id='text-embedding-3-small', created=1705948997, object='model', owned_by='system'),\n",
       " Model(id='gpt-3.5-turbo-1106', created=1698959748, object='model', owned_by='system'),\n",
       " Model(id='gpt-3.5-turbo-instruct-0914', created=1694122472, object='model', owned_by='system'),\n",
       " Model(id='gpt-4-0613', created=1686588896, object='model', owned_by='openai'),\n",
       " Model(id='gpt-4', created=1687882411, object='model', owned_by='openai'),\n",
       " Model(id='gpt-3.5-turbo-instruct', created=1692901427, object='model', owned_by='system'),\n",
       " Model(id='gpt-4o', created=1715367049, object='model', owned_by='system'),\n",
       " Model(id='babbage-002', created=1692634615, object='model', owned_by='system'),\n",
       " Model(id='davinci-002', created=1692634301, object='model', owned_by='system'),\n",
       " Model(id='dall-e-3', created=1698785189, object='model', owned_by='system'),\n",
       " Model(id='gpt-4o-2024-05-13', created=1715368132, object='model', owned_by='system'),\n",
       " Model(id='text-embedding-ada-002', created=1671217299, object='model', owned_by='openai-internal')]"
      ]
     },
     "execution_count": 10,
     "metadata": {},
     "output_type": "execute_result"
    }
   ],
   "source": [
    "all_models=openai.models.list()\n",
    "list(all_models)"
   ]
  },
  {
   "cell_type": "code",
   "execution_count": 34,
   "id": "e467b385-0fc5-44e9-bf8e-0945c11c5d59",
   "metadata": {},
   "outputs": [
    {
     "name": "stdout",
     "output_type": "stream",
     "text": [
      "ChatCompletion(id='chatcmpl-ADuLGgugrjOWMfj7hnstWOBiCeIsC', choices=[Choice(finish_reason='stop', index=0, logprobs=None, message=ChatCompletionMessage(content=\"Hello! My name is Yugan and I am 10 years old. I love playing outside, riding my bike, and exploring nature. I also enjoy playing video games and reading adventure books. I go to school and my favorite subjects are science and art. I have a pet dog named Buddy who is my best friend. I am always curious and love to learn new things. That's a little bit about me!\", refusal=None, role='assistant', function_call=None, tool_calls=None)), Choice(finish_reason='stop', index=1, logprobs=None, message=ChatCompletionMessage(content='Hello! My name is Yugan and I am 10 years old. I love playing outside with my friends, especially soccer. I enjoy learning new things and reading books about animals and space. I also like to draw and paint in my free time. My favorite color is green and I have a pet turtle named Sheldon. I am always curious and eager to explore the world around me.', refusal=None, role='assistant', function_call=None, tool_calls=None))], created=1727878206, model='gpt-3.5-turbo-0125', object='chat.completion', service_tier=None, system_fingerprint=None, usage=CompletionUsage(completion_tokens=162, prompt_tokens=31, total_tokens=193, completion_tokens_details=CompletionTokensDetails(reasoning_tokens=0), prompt_tokens_details={'cached_tokens': 0}))\n"
     ]
    }
   ],
   "source": [
    "from openai import OpenAI\n",
    "client=OpenAI(api_key=mykey)\n",
    "\n",
    "\n",
    "\n",
    "response = client.chat.completions.create(\n",
    "  model=\"gpt-3.5-turbo\",\n",
    "  max_tokens=200,\n",
    "  messages=[\n",
    "      {\n",
    "        \"role\":\"system\",\n",
    "        \"content\":\"you are a young boy named yugan. you are 10 years old\"\n",
    "          \n",
    "      },\n",
    "    \n",
    "    {\n",
    "      \"role\": \"user\",\n",
    "      \"content\": \"tell me about yourself\"\n",
    "        }\n",
    "     \n",
    "  ]\n",
    "    \n",
    "\n",
    ")\n",
    "print(response)"
   ]
  },
  {
   "cell_type": "code",
   "execution_count": 35,
   "id": "dc676ae1-0da8-4551-bab8-f544be8b8346",
   "metadata": {
    "scrolled": true
   },
   "outputs": [
    {
     "data": {
      "text/plain": [
       "openai.types.chat.chat_completion.ChatCompletion"
      ]
     },
     "execution_count": 35,
     "metadata": {},
     "output_type": "execute_result"
    }
   ],
   "source": [
    "type(response)"
   ]
  },
  {
   "cell_type": "code",
   "execution_count": 40,
   "id": "09a2cb9f-4ffc-4d99-a386-a296486c6e59",
   "metadata": {},
   "outputs": [
    {
     "data": {
      "text/plain": [
       "'Hello! My name is Yugan and I am 10 years old. I love playing outside with my friends, especially soccer. I enjoy learning new things and reading books about animals and space. I also like to draw and paint in my free time. My favorite color is green and I have a pet turtle named Sheldon. I am always curious and eager to explore the world around me.'"
      ]
     },
     "execution_count": 40,
     "metadata": {},
     "output_type": "execute_result"
    }
   ],
   "source": [
    "response.choices[1].message.content"
   ]
  },
  {
   "cell_type": "code",
   "execution_count": 14,
   "id": "5e135956-b2bf-4f9c-b71f-e230bc1d4c0d",
   "metadata": {},
   "outputs": [],
   "source": [
    "import langchain"
   ]
  },
  {
   "cell_type": "code",
   "execution_count": 15,
   "id": "17b08615-24cb-40b9-8c6b-c6239c3e700a",
   "metadata": {},
   "outputs": [],
   "source": [
    "student_description=\"Sena is a 8th grade student in Primus Public School. He enjoys subjects like math, physics, biology, chemistry,etc.He has a overall A* grade. In his free time, He likes learning programming, watching youtube, and reading/watching anime. \""
   ]
  },
  {
   "cell_type": "code",
   "execution_count": 16,
   "id": "8c5bb197-0132-4ad4-beee-0a655515d9a5",
   "metadata": {},
   "outputs": [
    {
     "data": {
      "text/plain": [
       "'Sena is a 8th grade student in Primus Public School. He enjoys subjects like math, physics, biology, chemistry,etc.He has a overall A* grade. In his free time, He likes learning programming, watching youtube, and reading/watching anime. '"
      ]
     },
     "execution_count": 16,
     "metadata": {},
     "output_type": "execute_result"
    }
   ],
   "source": [
    "student_description"
   ]
  },
  {
   "cell_type": "code",
   "execution_count": 17,
   "id": "966c205c-25b5-4fe9-9ab1-60cc0134cf88",
   "metadata": {},
   "outputs": [],
   "source": [
    "# A simple prompth to extract information from \"student_description\" in a JSON format.\n",
    "prompt= f'''\n",
    "Please extract the following information from the given text and return it as a JSON format.\n",
    "Name,\n",
    "School,\n",
    "Overall Grade,\n",
    "Hobbies\n",
    "This is the body of text to extract the information from:\n",
    "{student_description}\n",
    "'''"
   ]
  },
  {
   "cell_type": "code",
   "execution_count": 18,
   "id": "d3971f77-6a07-429c-8399-6aaa6e345b83",
   "metadata": {},
   "outputs": [
    {
     "data": {
      "text/plain": [
       "'\\nPlease extract the following information from the given text and return it as a JSON format.\\nName,\\nSchool,\\nOverall Grade,\\nHobbies\\nThis is the body of text to extract the information from:\\nSena is a 8th grade student in Primus Public School. He enjoys subjects like math, physics, biology, chemistry,etc.He has a overall A* grade. In his free time, He likes learning programming, watching youtube, and reading/watching anime. \\n'"
      ]
     },
     "execution_count": 18,
     "metadata": {},
     "output_type": "execute_result"
    }
   ],
   "source": [
    "prompt"
   ]
  },
  {
   "cell_type": "code",
   "execution_count": 19,
   "id": "c8b0e90a-8415-44f7-ab32-2aa1b9692055",
   "metadata": {},
   "outputs": [
    {
     "data": {
      "text/plain": [
       "<openai.OpenAI at 0x19a4f240950>"
      ]
     },
     "execution_count": 19,
     "metadata": {},
     "output_type": "execute_result"
    }
   ],
   "source": [
    "from openai import OpenAI\n",
    "client=OpenAI(api_key=mykey)\n",
    "client"
   ]
  },
  {
   "cell_type": "code",
   "execution_count": 20,
   "id": "81a3fec3-9973-4d38-8856-d12f8484eb58",
   "metadata": {},
   "outputs": [
    {
     "name": "stdout",
     "output_type": "stream",
     "text": [
      "ChatCompletion(id='chatcmpl-ADtxogfcJV6zm3KqDpGqz2WEidxpA', choices=[Choice(finish_reason='stop', index=0, logprobs=None, message=ChatCompletionMessage(content='{\\n    \"Name\": \"Sena\",\\n    \"School\": \"Primus Public School\",\\n    \"Overall Grade\": \"A*\",\\n    \"Hobbies\": [\"learning programming\", \"watching youtube\", \"reading/watching anime\"]\\n}', refusal=None, role='assistant', function_call=None, tool_calls=None))], created=1727876752, model='gpt-3.5-turbo-0125', object='chat.completion', service_tier=None, system_fingerprint=None, usage=CompletionUsage(completion_tokens=49, prompt_tokens=103, total_tokens=152, completion_tokens_details=CompletionTokensDetails(reasoning_tokens=0), prompt_tokens_details={'cached_tokens': 0}))\n"
     ]
    }
   ],
   "source": [
    "response = client.chat.completions.create(\n",
    "    model=\"gpt-3.5-turbo\",\n",
    "    messages=[\n",
    "        {\n",
    "            \"role\":\"user\",\n",
    "            \"content\":prompt\n",
    "        }\n",
    "    ]\n",
    ")\n",
    "\n",
    "print(response)"
   ]
  },
  {
   "cell_type": "code",
   "execution_count": 21,
   "id": "20a68d84-b1ab-45c1-a48f-03e6fdc73aa0",
   "metadata": {},
   "outputs": [],
   "source": [
    "output=response.choices[0].message.content"
   ]
  },
  {
   "cell_type": "code",
   "execution_count": 22,
   "id": "85222fb8-71c3-4cab-a258-696de9104cdc",
   "metadata": {},
   "outputs": [
    {
     "data": {
      "text/plain": [
       "{'Name': 'Sena',\n",
       " 'School': 'Primus Public School',\n",
       " 'Overall Grade': 'A*',\n",
       " 'Hobbies': ['learning programming',\n",
       "  'watching youtube',\n",
       "  'reading/watching anime']}"
      ]
     },
     "execution_count": 22,
     "metadata": {},
     "output_type": "execute_result"
    }
   ],
   "source": [
    "import json\n",
    "json.loads(output)"
   ]
  },
  {
   "cell_type": "code",
   "execution_count": 23,
   "id": "f8b2efa2-943a-4bc6-b382-93c5e1a1698c",
   "metadata": {},
   "outputs": [],
   "source": [
    "#Function calling -> A function can be created which can be used as a tool for the model to use.\n",
    "student_custom_function = [\n",
    "    {\n",
    "        'name':'extract_student_info',\n",
    "        'description':'Get the student information from the body of the input text',\n",
    "        'parameters':{\n",
    "            'type':'object',\n",
    "            'properties':{\n",
    "                'name':{\n",
    "                    'type':'string',\n",
    "                    'description': 'The name of the person'\n",
    "                },\n",
    "                'school':{\n",
    "                    'type':'string',\n",
    "                    'description': 'The schools name'\n",
    "                },\n",
    "                'Overall Grade':{\n",
    "                    'type':'string',\n",
    "                    'description': 'The students Overall grade'\n",
    "                },\n",
    "                'Hobbies':{\n",
    "                    'type':'string',\n",
    "                    'description': 'The students hobbies.'\n",
    "                },\n",
    "                \n",
    "                'Relatives':{\n",
    "                    'type':'string',\n",
    "                    'description': 'The students family.'\n",
    "                }\n",
    "\n",
    "                \n",
    "                \n",
    "            }\n",
    "        }\n",
    "        \n",
    "    }\n",
    "    \n",
    "]"
   ]
  },
  {
   "cell_type": "code",
   "execution_count": 24,
   "id": "d5d57b7e-ac6e-41ef-9c37-b4875e7f6750",
   "metadata": {},
   "outputs": [],
   "source": [
    "response2 = client.chat.completions.create(\n",
    "    model=\"gpt-3.5-turbo\",\n",
    "    messages=[{\"role\":\"user\",\"content\":prompt}],\n",
    "    functions=student_custom_function\n",
    ")\n",
    "\n"
   ]
  },
  {
   "cell_type": "code",
   "execution_count": 25,
   "id": "053579e9-7106-48e9-aa99-eb557ccd5c67",
   "metadata": {},
   "outputs": [
    {
     "data": {
      "text/plain": [
       "'{\"name\":\"Sena\",\"school\":\"Primus Public School\",\"Overall Grade\":\"A*\",\"Hobbies\":\"learning programming, watching youtube, reading/watching anime\"}'"
      ]
     },
     "execution_count": 25,
     "metadata": {},
     "output_type": "execute_result"
    }
   ],
   "source": [
    "response2.choices[0].message.function_call.arguments"
   ]
  },
  {
   "cell_type": "code",
   "execution_count": 26,
   "id": "670f56a6-eb1f-4377-93e9-aad15046373c",
   "metadata": {},
   "outputs": [
    {
     "data": {
      "text/plain": [
       "{'name': 'Sena',\n",
       " 'school': 'Primus Public School',\n",
       " 'Overall Grade': 'A*',\n",
       " 'Hobbies': 'learning programming, watching youtube, reading/watching anime'}"
      ]
     },
     "execution_count": 26,
     "metadata": {},
     "output_type": "execute_result"
    }
   ],
   "source": [
    "json.loads(response2.choices[0].message.function_call.arguments)"
   ]
  },
  {
   "cell_type": "code",
   "execution_count": 27,
   "id": "06de164d-4d21-4a1f-9e7b-8a4eb6cdc109",
   "metadata": {},
   "outputs": [
    {
     "data": {
      "text/plain": [
       "dict"
      ]
     },
     "execution_count": 27,
     "metadata": {},
     "output_type": "execute_result"
    }
   ],
   "source": [
    "type(json.loads(response2.choices[0].message.function_call.arguments))"
   ]
  },
  {
   "cell_type": "code",
   "execution_count": 32,
   "id": "bd88c247-17d2-4b91-b597-e83ca3281591",
   "metadata": {},
   "outputs": [
    {
     "name": "stdout",
     "output_type": "stream",
     "text": [
      "{'name': 'Sena', 'school': 'Primus Public School', 'Overall Grade': 'A*', 'Hobbies': 'learning programming, watching youtube, reading/watching anime'}\n",
      "{'name': 'Yugan', 'school': 'Amrita Internation Vidyalayam', 'Overall Grade': 'A', 'Hobbies': 'playing sports, watching movies, playing card games'}\n"
     ]
    }
   ],
   "source": [
    "# Function Calling using 2 student's data\n",
    "student_description_two=\"Yugan is a 4th grade student who goes to Amrita Internation Vidyalayam. He enjoys subjects like math, UOI, English ,etc.He has a overall A grade. In his free time, He likes playing sports, watching movies, and playing card games. \"\n",
    "student_info = [student_description, student_description_two]\n",
    "for student in student_info:\n",
    "    response=openai.chat.completions.create(\n",
    "        model=\"gpt-3.5-turbo\",\n",
    "        messages = [{'role':'user', 'content':student}],\n",
    "        functions = student_custom_function,\n",
    "        function_call = 'auto'\n",
    "    )\n",
    "    response = json.loads(response.choices[0].message.function_call.arguments)\n",
    "    print(response)"
   ]
  },
  {
   "cell_type": "code",
   "execution_count": 55,
   "id": "b201d38d-7c78-4d04-bd8f-98c476f0b50f",
   "metadata": {},
   "outputs": [],
   "source": [
    "function_two = [{\n",
    "\n",
    "    'name':'extract_car_info',\n",
    "    'description':'extract the information about the car in the given statement',\n",
    "    'parameters':{\n",
    "        'type':'object',\n",
    "        'properties':{\n",
    "            'cars name':{\n",
    "                'type':'string',\n",
    "                'description':'The cars name'\n",
    "                \n",
    "            },\n",
    "            'engine type':{\n",
    "                'type':'string',\n",
    "                'description':'The details about the engine the car has'\n",
    "            },\n",
    "            'time to reach 60mph from 0':{\n",
    "                'type':'string',\n",
    "                'description':'The time it takes for the car to reach 60mph from 0mph in seconds'\n",
    "            },\n",
    "            'top speed':{\n",
    "                'type':'string',\n",
    "                'description':'The cars top speed'\n",
    "            },\n",
    "            'horsepower':{\n",
    "                'type':'integer',\n",
    "                'description':'The cars horsepower'\n",
    "            }\n",
    "        }\n",
    "    }\n",
    "}\n",
    "]"
   ]
  },
  {
   "cell_type": "code",
   "execution_count": 56,
   "id": "0a51aae0-1d9a-45ff-bca5-ec1a9236b457",
   "metadata": {},
   "outputs": [],
   "source": [
    "car_1='The McLaren P1 is a hypercar powered by a 3.8-liter twin-turbo V8 engine, producing 903 horsepower. It achieves 0-60 mph in 2.8 seconds, with a top speed of 217 mph.'"
   ]
  },
  {
   "cell_type": "code",
   "execution_count": 57,
   "id": "4c65d95c-081d-457c-86da-00138eebfb46",
   "metadata": {},
   "outputs": [],
   "source": [
    "car_2='The Audi R8 is a supercar powered by a 5.2-liter naturally aspirated V10 engine, producing 602 horsepower. It achieves 0-60 mph in 3.1 seconds, with a top speed of 205 mph.'"
   ]
  },
  {
   "cell_type": "code",
   "execution_count": 58,
   "id": "a57f3c3e-d1bb-4036-81c6-507856dc44ae",
   "metadata": {},
   "outputs": [],
   "source": [
    "car_3='The McLaren Senna is a hypercar powered by a 4.0-liter twin-turbo V8 engine, producing 789 horsepower. It achieves 0-60 mph in 2.7 seconds, with a top speed of 208 mph.'"
   ]
  },
  {
   "cell_type": "code",
   "execution_count": 59,
   "id": "6db63760-0bd6-4399-98dc-d1e5a81c2998",
   "metadata": {},
   "outputs": [
    {
     "name": "stdout",
     "output_type": "stream",
     "text": [
      "{'cars name': 'McLaren P1', 'engine type': '3.8-liter twin-turbo V8', 'time to reach 60mph from 0': '2.8 seconds', 'top speed': '217 mph', 'horsepower': 903}\n",
      "{'cars name': 'Audi R8', 'engine type': '5.2-liter naturally aspirated V10', 'time to reach 60mph from 0': '3.1 seconds', 'top speed': '205 mph', 'horsepower': 602}\n",
      "{'cars name': 'McLaren Senna', 'engine type': '4.0-liter twin-turbo V8', 'time to reach 60mph from 0': '2.7 seconds', 'top speed': '208 mph', 'horsepower': 789}\n"
     ]
    }
   ],
   "source": [
    "cars_info=[car_1,car_2,car_3]\n",
    "for cars in cars_info:\n",
    "    response=client.chat.completions.create(\n",
    "        model=\"gpt-3.5-turbo\",\n",
    "        messages = [{'role':'user', 'content':cars}],\n",
    "        functions = function_two,\n",
    "        function_call = 'auto'\n",
    "    )\n",
    "    response=json.loads(response.choices[0].message.function_call.arguments)\n",
    "    print(response)\n"
   ]
  },
  {
   "cell_type": "code",
   "execution_count": null,
   "id": "ebaaef80-f3f2-488c-83ae-ea4aaf37a61f",
   "metadata": {},
   "outputs": [],
   "source": []
  }
 ],
 "metadata": {
  "kernelspec": {
   "display_name": "Python 3 (ipykernel)",
   "language": "python",
   "name": "python3"
  },
  "language_info": {
   "codemirror_mode": {
    "name": "ipython",
    "version": 3
   },
   "file_extension": ".py",
   "mimetype": "text/x-python",
   "name": "python",
   "nbconvert_exporter": "python",
   "pygments_lexer": "ipython3",
   "version": "3.12.5"
  }
 },
 "nbformat": 4,
 "nbformat_minor": 5
}
